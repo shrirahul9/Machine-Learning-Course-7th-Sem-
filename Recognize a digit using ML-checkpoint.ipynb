{
 "cells": [
  {
   "cell_type": "code",
   "execution_count": 1,
   "id": "52f004ae",
   "metadata": {},
   "outputs": [],
   "source": [
    "import numpy as np\n",
    "import matplotlib.pyplot as plt\n",
    "from sklearn.datasets import load_digits\n",
    "from sklearn.model_selection import train_test_split\n",
    "from sklearn.metrics import accuracy_score\n",
    "import warnings\n",
    "warnings.filterwarnings('ignore')  # Suppress warnings\n",
    "\n",
    "# Set environment variable to fix OpenBLAS issue\n",
    "import os\n",
    "os.environ['OMP_NUM_THREADS'] = '1'"
   ]
  },
  {
   "cell_type": "code",
   "execution_count": 2,
   "id": "4972d00f",
   "metadata": {},
   "outputs": [
    {
     "name": "stdout",
     "output_type": "stream",
     "text": [
      "~ DIGIT RECOGNITION WITH MACHINE LEARNING ~\n",
      "=============================================\n",
      "This script demonstrates multiple approaches to recognize handwritten digits\n",
      "\n"
     ]
    }
   ],
   "source": [
    "print(\"~ DIGIT RECOGNITION WITH MACHINE LEARNING ~\")\n",
    "print(\"=\"*45)\n",
    "print(\"This script demonstrates multiple approaches to recognize handwritten digits\")\n",
    "print()"
   ]
  },
  {
   "cell_type": "code",
   "execution_count": 3,
   "id": "7ea8f9d1",
   "metadata": {},
   "outputs": [
    {
     "name": "stdout",
     "output_type": "stream",
     "text": [
      "Loading the digit datasets...\n",
      "Dataset loaded: 1797 samples, each with 64 features\n",
      "Target digits: [0 1 2 3 4 5 6 7 8 9]\n",
      "\n"
     ]
    }
   ],
   "source": [
    "# Load the dataset\n",
    "print(\"Loading the digit datasets...\")\n",
    "\n",
    "# Load_digits() provides 8x8 images of digits 0-9\n",
    "digits = load_digits()\n",
    "X = digits.data            # Feature matrix: each row is a flattened 8x8 image (64 features)\n",
    "y = digits.target          # Labels: digit values 0-9\n",
    "\n",
    "print(f\"Dataset loaded: {X.shape[0]} samples, each with {X.shape[1]} features\")\n",
    "print(f\"Target digits: {np.unique(y)}\")\n",
    "print()"
   ]
  },
  {
   "cell_type": "code",
   "execution_count": 4,
   "id": "e92bd8ef",
   "metadata": {},
   "outputs": [
    {
     "name": "stdout",
     "output_type": "stream",
     "text": [
      "Visualizing sample digits...\n"
     ]
    },
    {
     "data": {
      "image/png": "[encoded data removed]",
      "text/plain": [
       "<Figure size 1200x600 with 10 Axes>"
      ]
     },
     "metadata": {},
     "output_type": "display_data"
    },
    {
     "name": "stdout",
     "output_type": "stream",
     "text": [
      "\n"
     ]
    }
   ],
   "source": [
    "# Visualize some sample digits\n",
    "print(\"Visualizing sample digits...\")\n",
    "fig, axes = plt.subplots(2, 5, figsize = (12,6))\n",
    "fig.suptitle('Sample Digits from Datasets', fontsize =16)\n",
    "\n",
    "for i in range(10):\n",
    "    # Reshape flattened image back to 8x8 for display\n",
    "    image = digits.data[i].reshape(8, 8)\n",
    "    ax = axes[i//5, i%5]\n",
    "    ax.imshow(image, cmap='gray')\n",
    "    ax.set_title(f'Digit: {digits.target[i]}')\n",
    "    ax.axis('off')\n",
    "\n",
    "plt.tight_layout()\n",
    "plt.show()\n",
    "print()"
   ]
  },
  {
   "cell_type": "code",
   "execution_count": 5,
   "id": "bca3c933",
   "metadata": {},
   "outputs": [
    {
     "name": "stdout",
     "output_type": "stream",
     "text": [
      "Step 3: Splitting data into training and testing sets...\n",
      "Training set: 1437 samples\n",
      "Testing set: 360 samples\n",
      "\n",
      "==================================================\n",
      "METHOD 1: SIMPLE PIXEL INTENSITY CLASSIFIER\n",
      "==================================================\n",
      "Testing simple pixel intensity classifier...\n",
      "Simple Pixel Classifier Accuracy: 0.094 (9.4%)\n",
      "\n"
     ]
    }
   ],
   "source": [
    "# Split data into training and testing sets\n",
    "\n",
    "print(\"Step 3: Splitting data into training and testing sets...\")\n",
    "X_train, X_test, y_train, y_test = train_test_split(X, y, test_size=0.2, random_state=42)\n",
    "\n",
    "print(f\"Training set: {X_train.shape[0]} samples\")\n",
    "print(f\"Testing set: {X_test.shape[0]} samples\")\n",
    "print()\n",
    "\n",
    "# METHOD 1: Simple Pixel Intensity Method\n",
    "print(\"=\" * 50)\n",
    "print(\"METHOD 1: SIMPLE PIXEL INTENSITY CLASSIFIER\")\n",
    "print(\"=\" * 50)\n",
    "\n",
    "def simple_pixel_classifier(X):\n",
    "    \"\"\"\n",
    "    Very simple classifier based on total pixel intensity\n",
    "    \"\"\"\n",
    "    predictions = []\n",
    "    \n",
    "    for image in X:\n",
    "        total_intensity = np.sum(image)\n",
    "        \n",
    "        if total_intensity < 200:\n",
    "            digit = 1\n",
    "        elif total_intensity < 250:\n",
    "            digit = 7\n",
    "        elif total_intensity < 300:\n",
    "            digit = 4\n",
    "        elif total_intensity < 350:\n",
    "            digit = 2\n",
    "        elif total_intensity < 400:\n",
    "            digit = 3\n",
    "        elif total_intensity < 450:\n",
    "            digit = 5\n",
    "        elif total_intensity < 500:\n",
    "            digit = 6\n",
    "        elif total_intensity < 550:\n",
    "            digit = 9\n",
    "        elif total_intensity < 600:\n",
    "            digit = 8\n",
    "        else:\n",
    "            digit = 0\n",
    "            \n",
    "        predictions.append(digit)\n",
    "    \n",
    "    return np.array(predictions)\n",
    "\n",
    "print(\"Testing simple pixel intensity classifier...\")\n",
    "simple_predictions = simple_pixel_classifier(X_test)\n",
    "simple_accuracy = accuracy_score(y_test, simple_predictions)\n",
    "print(f\"Simple Pixel Classifier Accuracy: {simple_accuracy:.3f} ({simple_accuracy*100:.1f}%)\")\n",
    "print()\n",
    "\n"
   ]
  },
  {
   "cell_type": "code",
   "execution_count": 6,
   "id": "395a10c2",
   "metadata": {},
   "outputs": [
    {
     "name": "stdout",
     "output_type": "stream",
     "text": [
      "==================================================\n",
      "METHOD 2: MANUAL K-NEAREST NEIGHBORS CLASSIFIER\n",
      "==================================================\n",
      "Training Manual K-Nearest Neighbors classifier...\n",
      "This may take a minute...\n",
      "Processing 360 test samples...\n",
      "Processing sample 1/360\n",
      "Processing sample 51/360\n",
      "Processing sample 101/360\n",
      "Processing sample 151/360\n",
      "Processing sample 201/360\n",
      "Processing sample 251/360\n",
      "Processing sample 301/360\n",
      "Processing sample 351/360\n",
      "Manual KNN Classifier Accuracy: 0.983 (98.3%)\n",
      "\n"
     ]
    }
   ],
   "source": [
    "# METHOD 2: Manual K-Nearest Neighbors (to avoid library issues)\n",
    "print(\"=\" * 50)\n",
    "print(\"METHOD 2: MANUAL K-NEAREST NEIGHBORS CLASSIFIER\")\n",
    "print(\"=\" * 50)\n",
    "\n",
    "def manual_knn_classifier(X_train, y_train, X_test, k=3):\n",
    "    \"\"\"\n",
    "    Manual implementation of K-Nearest Neighbors to avoid library issues\n",
    "    \"\"\"\n",
    "    predictions = []\n",
    "    \n",
    "    print(f\"Processing {len(X_test)} test samples...\")\n",
    "    \n",
    "    for i, test_sample in enumerate(X_test):\n",
    "        if i % 50 == 0:  # Progress indicator\n",
    "            print(f\"Processing sample {i+1}/{len(X_test)}\")\n",
    "        \n",
    "        # Calculate distances to all training samples\n",
    "        distances = []\n",
    "        for j, train_sample in enumerate(X_train):\n",
    "            # Euclidean distance\n",
    "            distance = np.sqrt(np.sum((test_sample - train_sample) ** 2))\n",
    "            distances.append((distance, y_train[j]))\n",
    "        \n",
    "        # Sort by distance and get k nearest neighbors\n",
    "        distances.sort(key=lambda x: x[0])\n",
    "        nearest_neighbors = distances[:k]\n",
    "        \n",
    "        # Get the most common digit among k neighbors\n",
    "        neighbor_digits = [neighbor[1] for neighbor in nearest_neighbors]\n",
    "        # Simple voting - count occurrences\n",
    "        digit_counts = {}\n",
    "        for digit in neighbor_digits:\n",
    "            digit_counts[digit] = digit_counts.get(digit, 0) + 1\n",
    "        \n",
    "        # Predict the most common digit\n",
    "        predicted_digit = max(digit_counts.items(), key=lambda x: x[1])[0]\n",
    "        predictions.append(predicted_digit)\n",
    "    \n",
    "    return np.array(predictions)\n",
    "\n",
    "print(\"Training Manual K-Nearest Neighbors classifier...\")\n",
    "print(\"This may take a minute...\")\n",
    "manual_knn_predictions = manual_knn_classifier(X_train, y_train, X_test, k=3)\n",
    "manual_knn_accuracy = accuracy_score(y_test, manual_knn_predictions)\n",
    "print(f\"Manual KNN Classifier Accuracy: {manual_knn_accuracy:.3f} ({manual_knn_accuracy*100:.1f}%)\")\n",
    "print()"
   ]
  },
  {
   "cell_type": "code",
   "execution_count": 7,
   "id": "096d93d3",
   "metadata": {},
   "outputs": [
    {
     "name": "stdout",
     "output_type": "stream",
     "text": [
      "==================================================\n",
      "METHOD 3: SIMPLE NEURAL NETWORK\n",
      "==================================================\n",
      "Creating simple neural network...\n",
      "Making predictions with simple neural network...\n",
      "(Note: This is a randomly initialized netwwork - not actually trained)\n",
      "Simple Neural Network Accuracy: 0.058 (5.8%)\n",
      "(Low accuracy expected - network is not trained, just random weights)\n",
      "\n"
     ]
    }
   ],
   "source": [
    "# Method 3: Simple Neural Network (Manual Implementation)\n",
    "print(\"=\"*50)\n",
    "print(\"METHOD 3: SIMPLE NEURAL NETWORK\")\n",
    "print(\"=\"*50)\n",
    "\n",
    "class SimpleNeuralNetwork:\n",
    "    \"\"\"\n",
    "    Simple neural network implementation to avoid sklearn issues\n",
    "    \"\"\"\n",
    "    def __init__(self, input_size, hidden_size, output_size):\n",
    "        # initialize weights randomly\n",
    "        self.W1 = np.random.randn(input_size, hidden_size) * 0.01\n",
    "        self.b1 = np.zeros((1, hidden_size))\n",
    "        self.W2 = np.random.randn(hidden_size, output_size) * 0.01\n",
    "        self.b2 = np.zeros((1, output_size))\n",
    "        \n",
    "    def relu(self, x):\n",
    "        return np.maximum(0, x)\n",
    "    \n",
    "    def softmax(self, x):\n",
    "        exp_x = np.exp(x - np.max(x, axis = 1, keepdims = True))\n",
    "        return exp_x / np.sum(exp_x, axis = 1, keepdims = True)\n",
    "    \n",
    "    def forward(self, X):\n",
    "        # Forward pass\n",
    "        self.z1 = np.dot(X, self.W1) + self.b1\n",
    "        self.a1 = self.relu(self.z1)\n",
    "        self.z2 = np.dot(self.a1, self.W2) + self.b2\n",
    "        self.a2 = self.softmax(self.z2)\n",
    "        return self.a2\n",
    "    \n",
    "    def predict(self, X):\n",
    "        probabilities = self.forward(X)\n",
    "        return np.argmax(probabilities, axis=1)\n",
    "    \n",
    "# Create and 'train' simple neural network\n",
    "print(\"Creating simple neural network...\")\n",
    "# Normalize data\n",
    "X_train_norm = X_train/255.0\n",
    "X_test_norm = X_test/255.0\n",
    "\n",
    "nn = SimpleNeuralNetwork(input_size = 64, hidden_size = 50, output_size = 10)\n",
    "\n",
    "print(\"Making predictions with simple neural network...\")\n",
    "print(\"(Note: This is a randomly initialized netwwork - not actually trained)\")\n",
    "nn_predictions = nn.predict(X_test_norm)\n",
    "nn_accuracy = accuracy_score(y_test, nn_predictions)\n",
    "print(f\"Simple Neural Network Accuracy: {nn_accuracy:.3f} ({nn_accuracy*100:.1f}%)\")\n",
    "print(\"(Low accuracy expected - network is not trained, just random weights)\")\n",
    "print()\n"
   ]
  },
  {
   "cell_type": "code",
   "execution_count": 8,
   "id": "2202f7d5",
   "metadata": {},
   "outputs": [
    {
     "name": "stdout",
     "output_type": "stream",
     "text": [
      "==================================================\n",
      "METHOD 4: TEMPLATE MATCHING\n",
      "==================================================\n",
      "Creating digit templates...\n",
      "Matching 360 test samples to templates...\n",
      "Processing sample 1/360\n",
      "Processing sample 101/360\n",
      "Processing sample 201/360\n",
      "Processing sample 301/360\n",
      "Template matching complete! Generated 360 predictions\n",
      "Template Matching Accuracy: 0.900 (90.0%)\n",
      "\n"
     ]
    }
   ],
   "source": [
    "# METHOD 4: Template Matching\n",
    "print(\"=\"*50)\n",
    "print(\"METHOD 4: TEMPLATE MATCHING\")\n",
    "print(\"=\"*50)\n",
    "\n",
    "def template_matching_classifier(X_train, y_train, X_test):\n",
    "    \"\"\"\n",
    "    Template matching - compare to average digit templates\n",
    "    \"\"\"\n",
    "    print(\"Creating digit templates...\")\n",
    "    templates = {}\n",
    "    \n",
    "    # Create average template for each digit\n",
    "    for digit in range(10):\n",
    "        digit_samples = X_train[y_train == digit]\n",
    "        if len(digit_samples) > 0:  # Check if digit exists in training data\n",
    "            templates[digit] = np.mean(digit_samples, axis=0)\n",
    "        else:\n",
    "            # Create a zero template if digit not in training data\n",
    "            templates[digit] = np.zeros(X_train.shape[1])\n",
    "    \n",
    "    predictions = []\n",
    "    print(f\"Matching {len(X_test)} test samples to templates...\")\n",
    "    \n",
    "    # Process ALL test samples, not just first 10\n",
    "    for i, test_sample in enumerate(X_test):\n",
    "        if i % 100 == 0:  # Progress indicator\n",
    "            print(f\"Processing sample {i+1}/{len(X_test)}\")\n",
    "            \n",
    "        best_match = 0\n",
    "        min_distance = float('inf')\n",
    "        \n",
    "        for digit, template in templates.items():\n",
    "            # Calculate squared euclidean distance\n",
    "            distance = np.sum((test_sample - template) ** 2)\n",
    "            if distance < min_distance:\n",
    "                min_distance = distance\n",
    "                best_match = digit\n",
    "        \n",
    "        predictions.append(best_match)\n",
    "    \n",
    "    print(f\"Template matching complete! Generated {len(predictions)} predictions\")\n",
    "    return np.array(predictions)\n",
    "\n",
    "template_predictions = template_matching_classifier(X_train, y_train, X_test)\n",
    "template_accuracy = accuracy_score(y_test, template_predictions)\n",
    "print(f\"Template Matching Accuracy: {template_accuracy:.3f} ({template_accuracy*100:.1f}%)\")\n",
    "print()"
   ]
  },
  {
   "cell_type": "code",
   "execution_count": 14,
   "id": "8b9c4064",
   "metadata": {},
   "outputs": [
    {
     "name": "stdout",
     "output_type": "stream",
     "text": [
      "==================================================\n",
      "COMPARISON OF ALL METHODS\n",
      "==================================================\n",
      "Method         Accuracy    Complexity  Description\n",
      "-----------------------------------------------------------------\n",
      "method:<15acc:.3f (9.4%) Very Low    Count pixel intensity\n",
      "method:<15acc:.3f (98.3%) Medium      Find similar examples\n",
      "method:<15acc:.3f (90.0%) Medium      Match to digit averages\n",
      "method:<15acc:.3f (5.8%) High        Neural Network (untrained)\n",
      "\n"
     ]
    }
   ],
   "source": [
    "# Compare all methods\n",
    "print(\"=\"*50)\n",
    "print(\"COMPARISON OF ALL METHODS\")\n",
    "print(\"=\"*50)\n",
    "\n",
    "methods = ['Simple Pixel', 'Manual KNN', 'Template Match', 'Random NN']\n",
    "accuracies = [simple_accuracy, manual_knn_accuracy, template_accuracy, nn_accuracy]\n",
    "complexities = ['Very Low', 'Medium', 'Medium', 'High']\n",
    "descriptions = [\n",
    "    'Count pixel intensity',\n",
    "    'Find similar examples',\n",
    "    'Match to digit averages',\n",
    "    'Neural Network (untrained)'\n",
    "]\n",
    "\n",
    "print(f\"{'Method':<15}{'Accuracy':<12}{'Complexity':<12}{'Description'}\")\n",
    "print(\"-\"*65)\n",
    "for method, acc, comp, desc in zip(methods, accuracies, complexities, descriptions):\n",
    "    print(f\"{'method:<15'}{'acc:.3f'} ({acc*100:.1f}%){'':<1}{comp:<12}{desc}\")\n",
    "    \n",
    "print()"
   ]
  },
  {
   "cell_type": "code",
   "execution_count": 16,
   "id": "e6a9317d",
   "metadata": {},
   "outputs": [
    {
     "name": "stdout",
     "output_type": "stream",
     "text": [
      "Sample Predictions (Template Matching)...\n"
     ]
    },
    {
     "data": {
      "text/plain": [
       "<function matplotlib.pyplot.show(close=None, block=None)>"
      ]
     },
     "execution_count": 16,
     "metadata": {},
     "output_type": "execute_result"
    },
    {
     "data": {
      "image/png": "[encoded data removed]",
      "text/plain": [
       "<Figure size 1200x600 with 10 Axes>"
      ]
     },
     "metadata": {},
     "output_type": "display_data"
    }
   ],
   "source": [
    "# Show some Predictions\n",
    "print(\"Sample Predictions (Template Matching)...\")\n",
    "fig, axes = plt.subplots(2, 5, figsize = (12,6))\n",
    "fig.suptitle('Sample Predictions - Template Matching Method', fontsize = 16)\n",
    "\n",
    "for i in range(10):\n",
    "    image = X_test[i].reshape(8, 8)\n",
    "    actual = y_test[i]\n",
    "    predicted = template_predictions[i]\n",
    "    \n",
    "    ax = axes[i//5, i%5]\n",
    "    ax.imshow(image, cmap = 'gray')\n",
    "    \n",
    "    color = 'green' if actual == predicted else 'red'\n",
    "    ax.set_title(f'Actual: {actual}, Pred: {predicted}', color = color, fontsize = 10)\n",
    "    ax.axis('off')\n",
    "\n",
    "plt.tight_layout()\n",
    "plt.show"
   ]
  },
  {
   "cell_type": "code",
   "execution_count": null,
   "id": "84228f9e",
   "metadata": {},
   "outputs": [],
   "source": []
  }
 ],
 "metadata": {
  "kernelspec": {
   "display_name": "Python 3 (ipykernel)",
   "language": "python",
   "name": "python3"
  },
  "language_info": {
   "codemirror_mode": {
    "name": "ipython",
    "version": 3
   },
   "file_extension": ".py",
   "mimetype": "text/x-python",
   "name": "python",
   "nbconvert_exporter": "python",
   "pygments_lexer": "ipython3",
   "version": "3.11.5"
  }
 },
 "nbformat": 4,
 "nbformat_minor": 5
}
