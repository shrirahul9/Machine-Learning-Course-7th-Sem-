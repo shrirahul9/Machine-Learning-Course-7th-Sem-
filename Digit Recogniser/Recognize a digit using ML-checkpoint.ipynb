{
 "cells": [
  {
   "cell_type": "code",
   "execution_count": 17,
   "id": "52f004ae",
   "metadata": {},
   "outputs": [],
   "source": [
    "# Import numpy library for numerical operations and array handling\n",
    "import numpy as np\n",
    "\n",
    "# Import matplotlib for plotting and visualization\n",
    "import matplotlib.pyplot as plt\n",
    "\n",
    "# Import the digits dataset from sklearn\n",
    "from sklearn.datasets import load_digits\n",
    "\n",
    "# Import function to split data into training and testing sets\n",
    "from sklearn.model_selection import train_test_split\n",
    "\n",
    "# Import accuracy calculation metric\n",
    "from sklearn.metrics import accuracy_score\n",
    "\n",
    "# Import warnings module to control warning messages\n",
    "import warnings\n",
    "\n",
    "# Suppress all warning messages to keep output clean\n",
    "warnings.filterwarnings('ignore')\n",
    "\n",
    "# Set environment variable to fix OpenBLAS issue\n",
    "# Import os module to interact with operating system\n",
    "import os\n",
    "\n",
    "# Set the number of threads for OpenBLAS to 1 to avoid potential conflicts\n",
    "os.environ['OMP_NUM_THREADS'] = '1'"
   ]
  },
  {
   "cell_type": "code",
   "execution_count": 2,
   "id": "4972d00f",
   "metadata": {},
   "outputs": [
    {
     "name": "stdout",
     "output_type": "stream",
     "text": [
      "~ DIGIT RECOGNITION WITH MACHINE LEARNING ~\n",
      "=============================================\n",
      "This script demonstrates multiple approaches to recognize handwritten digits\n",
      "\n"
     ]
    }
   ],
   "source": [
    "print(\"~ DIGIT RECOGNITION WITH MACHINE LEARNING ~\")\n",
    "print(\"=\"*45)\n",
    "print(\"This script demonstrates multiple approaches to recognize handwritten digits\")\n",
    "print()"
   ]
  },
  {
   "cell_type": "code",
   "execution_count": 18,
   "id": "7ea8f9d1",
   "metadata": {},
   "outputs": [
    {
     "name": "stdout",
     "output_type": "stream",
     "text": [
      "Dataset loaded: 1797 samples, each with 64 features\n",
      "Target digits: [0 1 2 3 4 5 6 7 8 9]\n",
      "\n"
     ]
    }
   ],
   "source": [
    "# LOAD THE DATASET\n",
    "\n",
    "# Load_digits() provides 8x8 images of digits 0-9\n",
    "# Load the digits dataset from sklearn\n",
    "digits = load_digits()\n",
    "\n",
    "# Extract the feature matrix: each row is a flattened 8x8 image (64 features)\n",
    "X = digits.data\n",
    "\n",
    "# Extract the target labels: digit values 0-9\n",
    "y = digits.target\n",
    "\n",
    "# Print information about the loaded dataset dimensions\n",
    "print(f\"Dataset loaded: {X.shape[0]} samples, each with {X.shape[1]} features\")\n",
    "\n",
    "# Print the unique digit values present in the dataset\n",
    "print(f\"Target digits: {np.unique(y)}\")\n",
    "print()"
   ]
  },
  {
   "cell_type": "code",
   "execution_count": 19,
   "id": "e92bd8ef",
   "metadata": {},
   "outputs": [
    {
     "name": "stdout",
     "output_type": "stream",
     "text": [
      "Visualizing sample digits...\n"
     ]
    },
    {
     "data": {
      "image/png": "[encoded data removed]",
      "text/plain": [
       "<Figure size 1200x600 with 10 Axes>"
      ]
     },
     "metadata": {},
     "output_type": "display_data"
    },
    {
     "name": "stdout",
     "output_type": "stream",
     "text": [
      "\n"
     ]
    }
   ],
   "source": [
    "# Visualize some sample digits\n",
    "\n",
    "print(\"Visualizing sample digits...\")\n",
    "\n",
    "# Create a figure with subplots arranged in 2 rows and 5 columns\n",
    "fig, axes = plt.subplots(2, 5, figsize=(12, 6))\n",
    "\n",
    "# Set the main title for the entire figure\n",
    "fig.suptitle('Sample Digits from Dataset', fontsize=16)\n",
    "\n",
    "# Loop through the first 10 samples to display them\n",
    "for i in range(10):\n",
    "    \n",
    "    # Reshape the flattened 64-element array back to 8x8 matrix for visualization\n",
    "    image = digits.data[i].reshape(8, 8)\n",
    "    \n",
    "    # Calculate which subplot to use: row index using integer division, column index using modulo\n",
    "    ax = axes[i//5, i%5]\n",
    "    \n",
    "    # Display the image in grayscale\n",
    "    ax.imshow(image, cmap='gray')\n",
    "    \n",
    "    # Set the title for each subplot showing the actual digit value\n",
    "    ax.set_title(f'Digit: {digits.target[i]}')\n",
    "    \n",
    "    # Turn off axis labels and ticks for cleaner display\n",
    "    ax.axis('off')\n",
    "\n",
    "# Adjust spacing between subplots for better layout\n",
    "plt.tight_layout()\n",
    "\n",
    "# Display the plot\n",
    "plt.show()\n",
    "print()"
   ]
  },
  {
   "cell_type": "code",
   "execution_count": 20,
   "id": "bca3c933",
   "metadata": {},
   "outputs": [
    {
     "name": "stdout",
     "output_type": "stream",
     "text": [
      "Splitting data into training and testing sets...\n",
      "Training set: 1437 samples\n",
      "Testing set: 360 samples\n",
      "\n"
     ]
    }
   ],
   "source": [
    "# Split data into training and testing sets\n",
    "\n",
    "print(\"Splitting data into training and testing sets...\")\n",
    "\n",
    "# Split the data: 80% for training, 20% for testing, with fixed random state for reproducibility\n",
    "X_train, X_test, y_train, y_test = train_test_split(X, y, test_size=0.2, random_state=42)\n",
    "\n",
    "# Print the number of samples in training set\n",
    "print(f\"Training set: {X_train.shape[0]} samples\")\n",
    "\n",
    "# Print the number of samples in testing set\n",
    "print(f\"Testing set: {X_test.shape[0]} samples\")\n",
    "\n",
    "print()\n",
    "\n",
    "\n"
   ]
  },
  {
   "cell_type": "code",
   "execution_count": 21,
   "id": "2202f7d5",
   "metadata": {},
   "outputs": [
    {
     "name": "stdout",
     "output_type": "stream",
     "text": [
      "==================================================\n",
      "TEMPLATE MATCHING CLASSIFIER\n",
      "==================================================\n",
      "Training and testing template matching classifier...\n",
      "Creating digit templates...\n",
      "Matching 360 test samples to templates...\n",
      "Processing sample 1/360\n",
      "Processing sample 101/360\n",
      "Processing sample 201/360\n",
      "Processing sample 301/360\n",
      "Template matching complete! Generated 360 predictions\n",
      "\n",
      "Template Matching Accuracy: 0.900 (90.0%)\n",
      "\n"
     ]
    }
   ],
   "source": [
    "# TEMPLATE MATCHING METHOD\n",
    "\n",
    "print(\"=\"*50)\n",
    "print(\"TEMPLATE MATCHING CLASSIFIER\")\n",
    "print(\"=\"*50)\n",
    "\n",
    "# Define template matching classifier function\n",
    "def template_matching_classifier(X_train, y_train, X_test):\n",
    "    \"\"\"\n",
    "    Template matching - compare test samples to average digit templates\n",
    "    \"\"\"\n",
    "    \n",
    "    # Print status message for template creation\n",
    "    print(\"Creating digit templates...\")\n",
    "    \n",
    "    # Initialize dictionary to store average template for each digit\n",
    "    templates = {}\n",
    "    \n",
    "    # Create average template for each digit (0-9)\n",
    "    for digit in range(10):\n",
    "        \n",
    "        # Get all training samples that correspond to current digit\n",
    "        digit_samples = X_train[y_train == digit]\n",
    "        \n",
    "        # Check if digit exists in training data\n",
    "        if len(digit_samples) > 0:\n",
    "            \n",
    "            # Create template by averaging all samples of this digit\n",
    "            templates[digit] = np.mean(digit_samples, axis=0)\n",
    "            \n",
    "        else:\n",
    "            # Create zero template as fallback if digit not in training data\n",
    "            templates[digit] = np.zeros(X_train.shape[1])\n",
    "    \n",
    "    # Initialize list to store predictions\n",
    "    predictions = []\n",
    "    \n",
    "    # Print status message for matching process\n",
    "    print(f\"Matching {len(X_test)} test samples to templates...\")\n",
    "    \n",
    "    # Process each test sample\n",
    "    for i, test_sample in enumerate(X_test):\n",
    "        \n",
    "        # Print progress every 100 samples\n",
    "        if i % 100 == 0:\n",
    "            print(f\"Processing sample {i+1}/{len(X_test)}\")\n",
    "            \n",
    "        # Initialize variables for finding best match\n",
    "        best_match = 0\n",
    "        \n",
    "        # Set initial minimum distance to infinity\n",
    "        min_distance = float('inf')\n",
    "        \n",
    "        # Compare test sample with each digit template\n",
    "        for digit, template in templates.items():\n",
    "            \n",
    "            # Calculate squared Euclidean distance between test sample and template\n",
    "            distance = np.sum((test_sample - template) ** 2)\n",
    "            \n",
    "            # Update best match if current distance is smaller\n",
    "            if distance < min_distance:\n",
    "                min_distance = distance\n",
    "                best_match = digit\n",
    "        \n",
    "        # Add the best matching digit to predictions\n",
    "        predictions.append(best_match)\n",
    "    \n",
    "    # Print completion message with number of predictions generated\n",
    "    print(f\"Template matching complete! Generated {len(predictions)} predictions\")\n",
    "    \n",
    "    # Convert predictions list to numpy array and return\n",
    "    return np.array(predictions)\n",
    "\n",
    "# Apply template matching classifier to test data\n",
    "print(\"Training and testing template matching classifier...\")\n",
    "template_predictions = template_matching_classifier(X_train, y_train, X_test)\n",
    "\n",
    "# Calculate accuracy of template matching method\n",
    "template_accuracy = accuracy_score(y_test, template_predictions)\n",
    "\n",
    "# Print the accuracy as both decimal and percentage\n",
    "print(f\"\\nTemplate Matching Accuracy: {template_accuracy:.3f} ({template_accuracy*100:.1f}%)\")\n",
    "print()"
   ]
  },
  {
   "cell_type": "code",
   "execution_count": 22,
   "id": "2fa90cfa",
   "metadata": {},
   "outputs": [
    {
     "name": "stdout",
     "output_type": "stream",
     "text": [
      "Sample Predictions Visualization...\n"
     ]
    },
    {
     "data": {
      "image/png": "[encoded data removed]",
      "text/plain": [
       "<Figure size 1200x600 with 10 Axes>"
      ]
     },
     "metadata": {},
     "output_type": "display_data"
    }
   ],
   "source": [
    "# Show sample Predictions\n",
    "\n",
    "print(\"Sample Predictions Visualization...\")\n",
    "\n",
    "# Create figure with subplots for displaying sample predictions\n",
    "fig, axes = plt.subplots(2, 5, figsize=(12, 6))\n",
    "\n",
    "# Set main title for the prediction visualization\n",
    "fig.suptitle('Sample Predictions - Template Matching Method', fontsize=16)\n",
    "\n",
    "# Display first 10 test samples with their predictions\n",
    "for i in range(10):\n",
    "    \n",
    "    # Reshape flattened test image back to 8x8 for display\n",
    "    image = X_test[i].reshape(8, 8)\n",
    "    \n",
    "    # Get actual label for this test sample\n",
    "    actual = y_test[i]\n",
    "    \n",
    "    # Get predicted label from template matching\n",
    "    predicted = template_predictions[i]\n",
    "    \n",
    "    # Calculate subplot position\n",
    "    ax = axes[i//5, i%5]\n",
    "    \n",
    "    # Display the image in grayscale\n",
    "    ax.imshow(image, cmap='gray')\n",
    "    \n",
    "    # Set color based on whether prediction is correct (green) or wrong (red)\n",
    "    color = 'green' if actual == predicted else 'red'\n",
    "    \n",
    "    # Set title showing actual vs predicted digit with appropriate color\n",
    "    ax.set_title(f'Actual: {actual}, Pred: {predicted}', color=color, fontsize=10)\n",
    "    \n",
    "    # Turn off axis for cleaner display\n",
    "    ax.axis('off')\n",
    "\n",
    "# Adjust layout for better spacing\n",
    "plt.tight_layout()\n",
    "\n",
    "# Display the plot\n",
    "plt.show()"
   ]
  },
  {
   "cell_type": "code",
   "execution_count": 23,
   "id": "4ca122fb",
   "metadata": {},
   "outputs": [
    {
     "name": "stdout",
     "output_type": "stream",
     "text": [
      "==================================================\n",
      "SUMMARY\n",
      "==================================================\n",
      "Method Used: Template Matching\n",
      "Final Accuracy: 0.900 (90.0%)\n",
      "Total Test Samples: 360\n",
      "Correct Predictions: 324\n",
      "Incorrect Predictions: 36\n",
      "\n",
      "Template matching works by:\n",
      "1. Creating average templates for each digit (0-9) from training data\n",
      "2. Comparing each test sample to all templates using distance calculation\n",
      "3. Predicting the digit whose template has the smallest distance\n"
     ]
    }
   ],
   "source": [
    "# Final summary\n",
    "\n",
    "print(\"=\"*50)\n",
    "print(\"SUMMARY\")\n",
    "print(\"=\"*50)\n",
    "print(f\"Method Used: Template Matching\")\n",
    "print(f\"Final Accuracy: {template_accuracy:.3f} ({template_accuracy*100:.1f}%)\")\n",
    "print(f\"Total Test Samples: {len(X_test)}\")\n",
    "print(f\"Correct Predictions: {int(template_accuracy * len(X_test))}\")\n",
    "print(f\"Incorrect Predictions: {len(X_test) - int(template_accuracy * len(X_test))}\")\n",
    "print(\"\\nTemplate matching works by:\")\n",
    "print(\"1. Creating average templates for each digit (0-9) from training data\")\n",
    "print(\"2. Comparing each test sample to all templates using distance calculation\")\n",
    "print(\"3. Predicting the digit whose template has the smallest distance\")"
   ]
  },
  {
   "cell_type": "code",
   "execution_count": null,
   "id": "75123d27",
   "metadata": {},
   "outputs": [],
   "source": []
  }
 ],
 "metadata": {
  "kernelspec": {
   "display_name": "Python 3 (ipykernel)",
   "language": "python",
   "name": "python3"
  },
  "language_info": {
   "codemirror_mode": {
    "name": "ipython",
    "version": 3
   },
   "file_extension": ".py",
   "mimetype": "text/x-python",
   "name": "python",
   "nbconvert_exporter": "python",
   "pygments_lexer": "ipython3",
   "version": "3.11.5"
  }
 },
 "nbformat": 4,
 "nbformat_minor": 5
}
